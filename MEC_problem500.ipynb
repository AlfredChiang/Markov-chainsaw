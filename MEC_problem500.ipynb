{
 "cells": [
  {
   "cell_type": "code",
   "execution_count": 1,
   "metadata": {},
   "outputs": [],
   "source": [
    "import gym\n",
    "from gym import spaces\n",
    "import numpy as np\n",
    "import matplotlib.pyplot as plt"
   ]
  },
  {
   "cell_type": "code",
   "execution_count": 101,
   "metadata": {},
   "outputs": [],
   "source": [
    "class MEC_ENV(gym.Env):\n",
    "    def __init__(self,n_users):\n",
    "#         super(MEC_ENV).__init__()\n",
    "        self.n_users = n_users\n",
    "        self.action_space = spaces.Discrete(2**self.n_users)\n",
    "        \n",
    "        high = np.array([np.inf,1,1])\n",
    "        low = np.array([0,0,0])\n",
    "        self.observation_space = spaces.Box(low=low,high=high,dtype=np.float32)\n",
    "        \n",
    "        self.simga_loc = np.zeros(n_users)\n",
    "        self.f_local = np.zeros(n_users)\n",
    "        self.R = np.zeros(n_users)\n",
    "        self.P_upload = np.zeros(n_users)\n",
    "        self.S = np.zeros(n_users)\n",
    "        self.C = np.zeros(n_users)\n",
    "        self.D_max = np.zeros(n_users)\n",
    "        self.P_wait = np.zeros(n_users)\n",
    "        self.beta = np.zeros(n_users)\n",
    "        self.theta = np.zeros(n_users)\n",
    "        self.fmec = 100\n",
    "        \n",
    "        self.reset()\n",
    "        \n",
    "    def reset(self):\n",
    "        self.state = np.array([np.inf,1,1])\n",
    "        self.simga_loc = np.random.randint(1,3,self.n_users)*1e-4\n",
    "        self.P_upload = np.random.randint(1,3,self.n_users)*1e-5\n",
    "        self.P_wait = np.random.randint(1,3,self.n_users)*1e-6\n",
    "        self.D_max = np.random.randint(1,3,self.n_users)*1e-2\n",
    "        self.R = np.random.randint(1,3,self.n_users)*1e3\n",
    "        self.f_local = np.random.randint(1,3,self.n_users)*1e6\n",
    "        self.beta = np.random.randint(1,3,self.n_users)*0.05\n",
    "        self.theta = np.random.randint(1,3,self.n_users)*0.05\n",
    "        \n",
    "        return self.state\n",
    "    def step(self,action):\n",
    "        \n",
    "        \n",
    "        num_calculate = np.random.randint(1,self.n_users)\n",
    "        is_calcutate = np.random.choice(np.arange(self.n_users),num_calculate,replace=False)\n",
    "\n",
    "        for i in is_calcutate:\n",
    "            self.S[i] = np.random.randint(1e3,1e3+100,1)\n",
    "            self.C[is_calcutate] = np.random.randint(1e3,1e3+100,1)\n",
    "            \n",
    "\n",
    "        \n",
    "        \n",
    "        E = 0\n",
    "        for i in is_calcutate:\n",
    "            if (self.C[i]/self.f_local[i]) > self.D_max[i]:action[i]=1\n",
    "            if action[i]==1:\n",
    "                \n",
    "                E+=(self.P_upload[i]*self.S[i]/self.R[i]+self.P_wait[i]*self.C[i]/self.beta[i]*self.fmec)\n",
    "            else:\n",
    "                E+=self.C[i]*self.simga_loc[i]\n",
    "        \n",
    "        E = min(E,10)\n",
    "        free_calculate = 1 - action[is_calcutate].dot(self.theta[is_calcutate])\n",
    "        free_frequency = 1 - action[is_calcutate].dot(self.beta[is_calcutate])\n",
    "        self.state = np.array([E,free_calculate,free_frequency])\n",
    "        reward = -E\n",
    "        \n",
    "        \n",
    "        return self.state,reward,False,{}\n",
    "        # calculate E\n",
    "            \n",
    "            \n",
    "        "
   ]
  },
  {
   "cell_type": "code",
   "execution_count": 102,
   "metadata": {},
   "outputs": [],
   "source": [
    "mec = MEC_ENV(5)\n"
   ]
  },
  {
   "cell_type": "code",
   "execution_count": 103,
   "metadata": {},
   "outputs": [
    {
     "data": {
      "text/plain": [
       "1"
      ]
     },
     "execution_count": 103,
     "metadata": {},
     "output_type": "execute_result"
    }
   ],
   "source": [
    "action = np.random.randint(0,2,mec.n_users)\n",
    "action[4]"
   ]
  },
  {
   "cell_type": "code",
   "execution_count": 104,
   "metadata": {},
   "outputs": [
    {
     "data": {
      "text/plain": [
       "(array([2.02601081, 0.9       , 0.95      ]), -2.02601081, False, {})"
      ]
     },
     "execution_count": 104,
     "metadata": {},
     "output_type": "execute_result"
    }
   ],
   "source": [
    "mec.step(action)\n"
   ]
  },
  {
   "cell_type": "code",
   "execution_count": 105,
   "metadata": {},
   "outputs": [
    {
     "data": {
      "text/plain": [
       "array([0.1 , 0.1 , 0.05, 0.1 , 0.1 ])"
      ]
     },
     "execution_count": 105,
     "metadata": {},
     "output_type": "execute_result"
    }
   ],
   "source": [
    "mec.theta"
   ]
  },
  {
   "cell_type": "code",
   "execution_count": 106,
   "metadata": {},
   "outputs": [
    {
     "data": {
      "text/plain": [
       "array([0.1 , 0.05, 0.05, 0.1 , 0.05])"
      ]
     },
     "execution_count": 106,
     "metadata": {},
     "output_type": "execute_result"
    }
   ],
   "source": [
    "mec.beta"
   ]
  },
  {
   "cell_type": "markdown",
   "metadata": {},
   "source": [
    "# Q_learning"
   ]
  },
  {
   "cell_type": "code",
   "execution_count": 107,
   "metadata": {},
   "outputs": [],
   "source": [
    "class q_learning(object):\n",
    "    def __init__(self,env):\n",
    "        self.env = env\n",
    "        self.q_table = np.random.uniform(low=-1, high=1, size=(10*10*10,2**env.n_users))\n",
    "        self.state_bins = self.bins(0,10,10)\n",
    "        self.free_calculate_bins = self.bins(0,1,10)\n",
    "        self.free_frequency_bins = self.bins(0,1,10)\n",
    "        \n",
    "    def bins(self,clip_min, clip_max, num):\n",
    "        return np.linspace(clip_min, clip_max, num + 1)[1:-1]\n",
    "    \n",
    "    \n",
    "    def digitize_state(self,observation):\n",
    "        # 将矢量打散回4个连续特征值\n",
    "        state,free_calculate_bins,free_frequency_bins = observation\n",
    "        # 分别对各个连续特征值进行离散化（分箱处理）\n",
    "        digitized = [np.digitize(state, bins=self.state_bins),\n",
    "                    np.digitize(free_calculate_bins, bins=self.free_calculate_bins),\n",
    "                    np.digitize(free_frequency_bins, bins=self.free_frequency_bins)]\n",
    "        # 将4个离散值再组合为一个离散值，作为最终结果\n",
    "        return sum([x * (10 ** i) for i, x in enumerate(digitized)])\n",
    "    \n",
    "    def run(self):\n",
    "        alpha = 0.1\n",
    "        gamma = 0.9\n",
    "        epsilon = 0.1\n",
    "\n",
    "        step_rewards= []\n",
    "        for eposide in range(500):\n",
    "            eposide_r = []\n",
    "            state = self.env.reset()\n",
    "            state = self.digitize_state(state)\n",
    "\n",
    "            for i in range(500):\n",
    "                \n",
    "\n",
    "                \n",
    "\n",
    "\n",
    "\n",
    "                if np.random.uniform(0, 1) < epsilon:\n",
    "                    action = np.random.randint(0,32) # Explore action space\n",
    "                else:\n",
    "                    action = np.argmax(self.q_table[state]) # Exploit learned values\n",
    "\n",
    "                \n",
    "                discrete_action = bin(action)[2:]\n",
    "                while len(discrete_action)<self.env.n_users:\n",
    "                    discrete_action = '0'+discrete_action\n",
    "                discrete_action = np.array([int(i) for i in discrete_action[::-1]])\n",
    "\n",
    "\n",
    "                next_state, reward, done, info = self.env.step(discrete_action) \n",
    "                next_state = self.digitize_state(next_state)\n",
    "\n",
    "                eposide_r.append(reward)\n",
    "\n",
    "\n",
    "                old_value = self.q_table[state, action]\n",
    "                next_max = np.max(self.q_table[next_state])\n",
    "\n",
    "                new_value = (1 - alpha) * old_value + alpha * (reward + gamma * next_max)\n",
    "                self.q_table[state, action] = new_value\n",
    "\n",
    "                state = next_state\n",
    "\n",
    "            step_rewards.append(sum(eposide_r))\n",
    "\n",
    "\n",
    "\n",
    "\n",
    "        print(\"Training finished.\\n\")\n",
    "        return step_rewards"
   ]
  },
  {
   "cell_type": "code",
   "execution_count": null,
   "metadata": {},
   "outputs": [],
   "source": []
  },
  {
   "cell_type": "code",
   "execution_count": null,
   "metadata": {},
   "outputs": [],
   "source": []
  },
  {
   "cell_type": "code",
   "execution_count": 108,
   "metadata": {},
   "outputs": [
    {
     "name": "stdout",
     "output_type": "stream",
     "text": [
      "Training finished.\n",
      "\n"
     ]
    },
    {
     "data": {
      "image/png": "[encoded data removed]",
      "text/plain": [
       "<Figure size 432x288 with 1 Axes>"
      ]
     },
     "metadata": {},
     "output_type": "display_data"
    }
   ],
   "source": [
    "ql = q_learning(mec)\n",
    "eposide_reward = ql.run()\n",
    "plt.plot(list(range(500)),eposide_reward)\n",
    "plt.xlabel('eposide')\n",
    "plt.ylabel('total_reward')\n",
    "plt.show()"
   ]
  },
  {
   "cell_type": "code",
   "execution_count": 109,
   "metadata": {},
   "outputs": [],
   "source": []
  },
  {
   "cell_type": "code",
   "execution_count": 155,
   "metadata": {},
   "outputs": [
    {
     "data": {
      "text/plain": [
       "array([0, 0])"
      ]
     },
     "execution_count": 155,
     "metadata": {},
     "output_type": "execute_result"
    }
   ],
   "source": []
  },
  {
   "cell_type": "markdown",
   "metadata": {},
   "source": [
    "# dqn\n"
   ]
  },
  {
   "cell_type": "code",
   "execution_count": 17,
   "metadata": {},
   "outputs": [],
   "source": [
    "import numpy as np\n",
    "import tensorflow as tf\n",
    "\n",
    "np.random.seed(1)\n",
    "tf.set_random_seed(1)\n",
    "\n",
    "\n",
    "# Deep Q Network off-policy\n",
    "class DeepQNetwork:\n",
    "    def __init__(\n",
    "            self,\n",
    "            action_dim,\n",
    "            n_actions,\n",
    "            n_features,\n",
    "            learning_rate=0.01,\n",
    "            reward_decay=0.9,\n",
    "            e_greedy=0.9,\n",
    "            replace_target_iter=300,\n",
    "            memory_size=500,\n",
    "            batch_size=32,\n",
    "            e_greedy_increment=None,\n",
    "            output_graph=False,\n",
    "    ):\n",
    "        \n",
    "        self.n_actions = n_actions\n",
    "        self.n_features = n_features\n",
    "        self.lr = learning_rate\n",
    "        self.gamma = reward_decay\n",
    "        self.epsilon_max = e_greedy\n",
    "        self.replace_target_iter = replace_target_iter\n",
    "        self.memory_size = memory_size\n",
    "        self.batch_size = batch_size\n",
    "        self.epsilon_increment = e_greedy_increment\n",
    "        self.epsilon = 0 if e_greedy_increment is not None else self.epsilon_max\n",
    "\n",
    "        # total learning step\n",
    "        self.learn_step_counter = 0\n",
    "\n",
    "        # initialize zero memory [s, a, r, s_]\n",
    "        self.memory = np.zeros((self.memory_size, n_features * 2 + action_dim+1))\n",
    "\n",
    "        # consist of [target_net, evaluate_net]\n",
    "        self._build_net()\n",
    "\n",
    "        t_params = tf.get_collection(tf.GraphKeys.GLOBAL_VARIABLES, scope='target_net')\n",
    "        e_params = tf.get_collection(tf.GraphKeys.GLOBAL_VARIABLES, scope='eval_net')\n",
    "\n",
    "        with tf.variable_scope('soft_replacement'):\n",
    "            self.target_replace_op = [tf.assign(t, e) for t, e in zip(t_params, e_params)]\n",
    "\n",
    "        self.sess = tf.Session()\n",
    "\n",
    "        if output_graph:\n",
    "            # $ tensorboard --logdir=logs\n",
    "            tf.summary.FileWriter(\"logs/\", self.sess.graph)\n",
    "\n",
    "        self.sess.run(tf.global_variables_initializer())\n",
    "        self.cost_his = []\n",
    "\n",
    "    def _build_net(self):\n",
    "        # ------------------ all inputs ------------------------\n",
    "        self.s = tf.placeholder(tf.float32, [None, self.n_features], name='s')  # input State\n",
    "        self.s_ = tf.placeholder(tf.float32, [None, self.n_features], name='s_')  # input Next State\n",
    "        self.r = tf.placeholder(tf.float32, [None, ], name='r')  # input Reward\n",
    "        self.a = tf.placeholder(tf.int32, [None, ], name='a')  # input Action\n",
    "\n",
    "        w_initializer, b_initializer = tf.random_normal_initializer(0., 0.3), tf.constant_initializer(0.1)\n",
    "\n",
    "        # ------------------ build evaluate_net ------------------\n",
    "        with tf.variable_scope('eval_net'):\n",
    "            e1 = tf.layers.dense(self.s, 20, tf.nn.relu, kernel_initializer=w_initializer,\n",
    "                                 bias_initializer=b_initializer, name='e1')\n",
    "            self.q_eval = tf.layers.dense(e1, self.n_actions, kernel_initializer=w_initializer,\n",
    "                                          bias_initializer=b_initializer, name='q')\n",
    "\n",
    "        # ------------------ build target_net ------------------\n",
    "        with tf.variable_scope('target_net'):\n",
    "            t1 = tf.layers.dense(self.s_, 20, tf.nn.relu, kernel_initializer=w_initializer,\n",
    "                                 bias_initializer=b_initializer, name='t1')\n",
    "            self.q_next = tf.layers.dense(t1, self.n_actions, kernel_initializer=w_initializer,\n",
    "                                          bias_initializer=b_initializer, name='t2')\n",
    "\n",
    "        with tf.variable_scope('q_target'):\n",
    "            q_target = self.r + self.gamma * tf.reduce_max(self.q_next, axis=1, name='Qmax_s_')    # shape=(None, )\n",
    "            self.q_target = tf.stop_gradient(q_target)\n",
    "        with tf.variable_scope('q_eval'):\n",
    "            a_indices = tf.stack([tf.range(tf.shape(self.a)[0], dtype=tf.int32), self.a], axis=1)\n",
    "            self.q_eval_wrt_a = tf.gather_nd(params=self.q_eval, indices=a_indices)    # shape=(None, )\n",
    "        with tf.variable_scope('loss'):\n",
    "            self.loss = tf.reduce_mean(tf.squared_difference(self.q_target, self.q_eval_wrt_a, name='TD_error'))\n",
    "        with tf.variable_scope('train'):\n",
    "            self._train_op = tf.train.RMSPropOptimizer(self.lr).minimize(self.loss)\n",
    "\n",
    "    def store_transition(self, s, a, r, s_):\n",
    "        if not hasattr(self, 'memory_counter'):\n",
    "            self.memory_counter = 0\n",
    "        transition = np.hstack((s, a, r, s_))\n",
    "        # replace the old memory with new memory\n",
    "        index = self.memory_counter % self.memory_size\n",
    "        self.memory[index, :] = transition\n",
    "        self.memory_counter += 1\n",
    "\n",
    "    def choose_action(self, observation):\n",
    "        # to have batch dimension when feed into tf placeholder\n",
    "        observation = observation[np.newaxis, :]\n",
    "\n",
    "        if np.random.uniform() < self.epsilon:\n",
    "            # forward feed the observation and get q value for every actions\n",
    "            actions_value = self.sess.run(self.q_eval, feed_dict={self.s: observation})\n",
    "            action = np.argmax(actions_value)\n",
    "        else:\n",
    "            action = np.random.randint(0, self.n_actions)\n",
    "        return action\n",
    "\n",
    "    def learn(self):\n",
    "        # check to replace target parameters\n",
    "        if self.learn_step_counter % self.replace_target_iter == 0:\n",
    "            self.sess.run(self.target_replace_op)\n",
    "            print('\\ntarget_params_replaced\\n')\n",
    "\n",
    "        # sample batch memory from all memory\n",
    "        if self.memory_counter > self.memory_size:\n",
    "            sample_index = np.random.choice(self.memory_size, size=self.batch_size)\n",
    "        else:\n",
    "            sample_index = np.random.choice(self.memory_counter, size=self.batch_size)\n",
    "        batch_memory = self.memory[sample_index, :]\n",
    "\n",
    "        _, cost = self.sess.run(\n",
    "            [self._train_op, self.loss],\n",
    "            feed_dict={\n",
    "                self.s: batch_memory[:, :self.n_features],\n",
    "                self.a: batch_memory[:, self.n_features],\n",
    "                self.r: batch_memory[:, self.n_features + 1],\n",
    "                self.s_: batch_memory[:, -self.n_features:],\n",
    "            })\n",
    "\n",
    "        self.cost_his.append(cost)\n",
    "\n",
    "        # increasing epsilon\n",
    "        self.epsilon = self.epsilon + self.epsilon_increment if self.epsilon < self.epsilon_max else self.epsilon_max\n",
    "        self.learn_step_counter += 1\n",
    "\n",
    "    def plot_cost(self):\n",
    "        import matplotlib.pyplot as plt\n",
    "        plt.plot(np.arange(len(self.cost_his)), self.cost_his)\n",
    "        plt.ylabel('Cost')\n",
    "        plt.xlabel('training steps')\n",
    "        plt.show()\n",
    "\n"
   ]
  },
  {
   "cell_type": "code",
   "execution_count": 18,
   "metadata": {},
   "outputs": [],
   "source": [
    "env = MEC_ENV(5)\n",
    "RL  = DeepQNetwork(env.n_users,env.action_space.n, env.observation_space.shape[0],\n",
    "                      learning_rate=0.01,\n",
    "                      reward_decay=0.9,\n",
    "                      e_greedy=0.9,\n",
    "                      replace_target_iter=200,\n",
    "                      memory_size=2000,\n",
    "                      # output_graph=True\n",
    "                      )"
   ]
  },
  {
   "cell_type": "code",
   "execution_count": 19,
   "metadata": {},
   "outputs": [
    {
     "name": "stdout",
     "output_type": "stream",
     "text": [
      "\n",
      "target_params_replaced\n",
      "\n",
      "\n",
      "target_params_replaced\n",
      "\n",
      "\n",
      "target_params_replaced\n",
      "\n",
      "\n",
      "target_params_replaced\n",
      "\n",
      "\n",
      "target_params_replaced\n",
      "\n",
      "\n",
      "target_params_replaced\n",
      "\n",
      "\n",
      "target_params_replaced\n",
      "\n",
      "\n",
      "target_params_replaced\n",
      "\n",
      "\n",
      "target_params_replaced\n",
      "\n",
      "\n",
      "target_params_replaced\n",
      "\n",
      "\n",
      "target_params_replaced\n",
      "\n",
      "\n",
      "target_params_replaced\n",
      "\n",
      "\n",
      "target_params_replaced\n",
      "\n",
      "\n",
      "target_params_replaced\n",
      "\n",
      "\n",
      "target_params_replaced\n",
      "\n",
      "\n",
      "target_params_replaced\n",
      "\n",
      "\n",
      "target_params_replaced\n",
      "\n",
      "\n",
      "target_params_replaced\n",
      "\n",
      "\n",
      "target_params_replaced\n",
      "\n",
      "\n",
      "target_params_replaced\n",
      "\n",
      "\n",
      "target_params_replaced\n",
      "\n",
      "\n",
      "target_params_replaced\n",
      "\n",
      "\n",
      "target_params_replaced\n",
      "\n",
      "\n",
      "target_params_replaced\n",
      "\n",
      "\n",
      "target_params_replaced\n",
      "\n",
      "\n",
      "target_params_replaced\n",
      "\n",
      "\n",
      "target_params_replaced\n",
      "\n",
      "\n",
      "target_params_replaced\n",
      "\n",
      "\n",
      "target_params_replaced\n",
      "\n",
      "\n",
      "target_params_replaced\n",
      "\n"
     ]
    }
   ],
   "source": [
    "\n",
    "\n",
    "def run(env,RL):\n",
    "    step_reward= []\n",
    "    for episode in range(500):\n",
    "        # initial observation\n",
    "        observation = env.reset()\n",
    "        eposide_reward = []\n",
    "        for step in range(500):\n",
    "           \n",
    "            # RL choose action based on observation\n",
    "            action = RL.choose_action(observation)\n",
    "            action = bin(action)[2:]\n",
    "            while len(action)<env.n_users:\n",
    "                action = '0'+action\n",
    "            action = np.array([int(i) for i in action[::-1]])\n",
    "\n",
    "            # RL take action and get next observation and reward\n",
    "            observation_, reward, done,_= env.step(action)\n",
    "            \n",
    "            eposide_reward.append(reward)\n",
    "            RL.store_transition(observation, action, reward, observation_)\n",
    "\n",
    "            if (step > 200) and (step % 5 == 0):\n",
    "                RL.learn()\n",
    "\n",
    "            # swap observation\n",
    "            observation = observation_\n",
    "        step_reward.append(sum(eposide_reward))  \n",
    "            # break while loop when end of this episode\n",
    "            \n",
    "    \n",
    "    return step_reward\n",
    "\n",
    "\n",
    "if __name__ == \"__main__\":\n",
    "    # maze game\n",
    "    \n",
    "    \n",
    "    step_reward = run(env,RL)\n",
    "    plt.plot(list(range(500)),step_reward)\n",
    "    plt.xlabel('eposide')\n",
    "    plt.ylabel('total_reward')\n",
    "    plt.show()"
   ]
  },
  {
   "cell_type": "code",
   "execution_count": 89,
   "metadata": {},
   "outputs": [
    {
     "data": {
      "image/png": "[encoded data removed]",
      "text/plain": [
       "<Figure size 432x288 with 1 Axes>"
      ]
     },
     "metadata": {},
     "output_type": "display_data"
    }
   ],
   "source": [
    "plt.plot(list(range(500)),eposide_reward)\n",
    "plt.xlabel('eposide')\n",
    "plt.ylabel('total_reward')\n",
    "plt.show()"
   ]
  },
  {
   "cell_type": "code",
   "execution_count": 111,
   "metadata": {},
   "outputs": [],
   "source": [
    "def run_compare(env):\n",
    "    step_rewards= []\n",
    "    for eposide in range(500):\n",
    "        eposide_r = []\n",
    "        \n",
    "        for i in range(500):\n",
    "\n",
    "            action = np.ones(env.n_users)\n",
    "            next_state, reward, done, info = env.step(action) \n",
    "            \n",
    "\n",
    "            eposide_r.append(reward)\n",
    "\n",
    "\n",
    "            state = next_state\n",
    "\n",
    "        step_rewards.append(sum(eposide_r))\n",
    "\n",
    "\n",
    "\n",
    "\n",
    "    print(\"Training finished.\\n\")\n",
    "    return step_rewards"
   ]
  },
  {
   "cell_type": "markdown",
   "metadata": {},
   "source": [
    "# 对比实验（方案3）"
   ]
  },
  {
   "cell_type": "code",
   "execution_count": 79,
   "metadata": {},
   "outputs": [],
   "source": [
    "#beta是计算资源\n",
    "#theta是通信资源\n",
    "class MEC_ENV_compare3(gym.Env):\n",
    "    def __init__(self,n_users):\n",
    "#         super(MEC_ENV).__init__()\n",
    "        self.n_users = n_users\n",
    "        self.action_space = spaces.Discrete(2**self.n_users)\n",
    "        \n",
    "        high = np.array([np.inf,1,1])\n",
    "        low = np.array([0,0,0])\n",
    "        self.observation_space = spaces.Box(low=low,high=high,dtype=np.float32)\n",
    "        \n",
    "        self.simga_loc = np.zeros(n_users)\n",
    "        self.f_local = np.zeros(n_users)\n",
    "        self.R = np.zeros(n_users)\n",
    "        self.P_upload = np.zeros(n_users)\n",
    "        self.S = np.zeros(n_users)\n",
    "        self.C = np.zeros(n_users)\n",
    "        self.D_max = np.zeros(n_users)\n",
    "        self.P_wait = np.zeros(n_users)\n",
    "        self.beta = np.zeros(n_users)\n",
    "        self.theta = np.zeros(n_users)\n",
    "        self.fmec = 100\n",
    "        \n",
    "        self.reset()\n",
    "        \n",
    "    def reset(self):\n",
    "        self.state = np.array([np.inf,1,1])\n",
    "        self.simga_loc = np.random.randint(1,3,self.n_users)*1e-4\n",
    "        self.P_upload = np.random.randint(1,3,self.n_users)*1e-5\n",
    "        self.P_wait = np.random.randint(1,3,self.n_users)*1e-6\n",
    "        self.D_max = np.random.randint(1,3,self.n_users)*1e-2\n",
    "        self.R = np.random.randint(1,3,self.n_users)*1e3\n",
    "        self.f_local = np.random.randint(1,3,self.n_users)*1e6\n",
    "        self.beta = np.ones(self.n_users)*0.1\n",
    "        self.theta = np.ones(self.n_users)*0.1\n",
    "        \n",
    "        return self.state\n",
    "    def step(self,action):\n",
    "        \n",
    "        #尽可能本地计算\n",
    "        num_local = np.random.randint(self.n_users-2,self.n_users)\n",
    "        index = np.random.choice(np.arange(self.n_users),num_local,replace=False)\n",
    "        action[index] =0\n",
    "        \n",
    "        num_calculate = np.random.randint(1,self.n_users)\n",
    "        is_calcutate = np.random.choice(np.arange(self.n_users),num_calculate,replace=False)\n",
    "\n",
    "        for i in is_calcutate:\n",
    "            self.S[i] = np.random.randint(1e3,1e3+100,1)\n",
    "            self.C[is_calcutate] = np.random.randint(1e3,1e3+100,1)\n",
    "            \n",
    "\n",
    "        \n",
    "        \n",
    "        E = 0\n",
    "        for i in is_calcutate:\n",
    "            if (self.C[i]/self.f_local[i]) > self.D_max[i]:action[i]=1\n",
    "            if action[i]==1:\n",
    "                \n",
    "                E+=(self.P_upload[i]*self.S[i]/self.R[i]+self.P_wait[i]*self.C[i]/self.beta[i]*self.fmec)\n",
    "            else:\n",
    "                E+=self.C[i]*self.simga_loc[i]\n",
    "        \n",
    "        E = min(E,10)\n",
    "        free_calculate = 1 - action[is_calcutate].dot(self.theta[is_calcutate])\n",
    "        free_frequency = 1 - action[is_calcutate].dot(self.beta[is_calcutate])\n",
    "        self.state = np.array([E,free_calculate,free_frequency])\n",
    "        reward = -E\n",
    "        \n",
    "        \n",
    "        return self.state,reward,False,{}\n",
    "        # calculate E\n",
    "            \n",
    "            \n",
    "            \n"
   ]
  },
  {
   "cell_type": "code",
   "execution_count": 83,
   "metadata": {},
   "outputs": [],
   "source": []
  },
  {
   "cell_type": "code",
   "execution_count": null,
   "metadata": {},
   "outputs": [],
   "source": []
  },
  {
   "cell_type": "code",
   "execution_count": 113,
   "metadata": {},
   "outputs": [
    {
     "name": "stdout",
     "output_type": "stream",
     "text": [
      "Training finished.\n",
      "\n"
     ]
    },
    {
     "data": {
      "image/png": "[encoded data removed]",
      "text/plain": [
       "<Figure size 432x288 with 1 Axes>"
      ]
     },
     "metadata": {},
     "output_type": "display_data"
    }
   ],
   "source": [
    "mec_3 = MEC_ENV_compare3(5)\n",
    "eposide_reward = run_compare(mec_3)\n",
    "plt.plot(list(range(500)),eposide_reward)\n",
    "plt.xlabel('eposide')\n",
    "plt.ylabel('total_reward')\n",
    "plt.show()"
   ]
  },
  {
   "cell_type": "markdown",
   "metadata": {},
   "source": [
    "# 对比试验(方案4）"
   ]
  },
  {
   "cell_type": "code",
   "execution_count": 114,
   "metadata": {},
   "outputs": [],
   "source": [
    "#beta是计算资源\n",
    "#theta是通信资源\n",
    "class MEC_ENV_compare4(gym.Env):\n",
    "    def __init__(self,n_users):\n",
    "#         super(MEC_ENV).__init__()\n",
    "        self.n_users = n_users\n",
    "        self.action_space = spaces.Discrete(2**self.n_users)\n",
    "        \n",
    "        high = np.array([np.inf,1,1])\n",
    "        low = np.array([0,0,0])\n",
    "        self.observation_space = spaces.Box(low=low,high=high,dtype=np.float32)\n",
    "        \n",
    "        self.simga_loc = np.zeros(n_users)\n",
    "        self.f_local = np.zeros(n_users)\n",
    "        self.R = np.zeros(n_users)\n",
    "        self.P_upload = np.zeros(n_users)\n",
    "        self.S = np.zeros(n_users)\n",
    "        self.C = np.zeros(n_users)\n",
    "        self.D_max = np.zeros(n_users)\n",
    "        self.P_wait = np.zeros(n_users)\n",
    "        self.beta = np.zeros(n_users)\n",
    "        self.theta = np.zeros(n_users)\n",
    "        self.fmec = 100\n",
    "        \n",
    "        self.reset()\n",
    "        \n",
    "    def reset(self):\n",
    "        self.state = np.array([np.inf,1,1])\n",
    "        self.simga_loc = np.random.randint(1,3,self.n_users)*1e-4\n",
    "        self.P_upload = np.random.randint(1,3,self.n_users)*1e-5\n",
    "        self.P_wait = np.random.randint(1,3,self.n_users)*1e-6\n",
    "        self.D_max = np.random.randint(1,3,self.n_users)*1e-2\n",
    "        self.R = np.random.randint(1,3,self.n_users)*1e3\n",
    "        self.f_local = np.random.randint(1,3,self.n_users)*1e6\n",
    "        self.beta = np.ones(self.n_users)*0.1\n",
    "        self.theta = np.ones(self.n_users)*0.1\n",
    "        \n",
    "        return self.state\n",
    "    def step(self,action):\n",
    "        \n",
    "        #尽可能卸载计算\n",
    "        num_local = np.random.randint(self.n_users-2,self.n_users)\n",
    "        index = np.random.choice(np.arange(self.n_users),num_local,replace=False)\n",
    "        action[index] =1\n",
    "        \n",
    "        num_calculate = np.random.randint(1,self.n_users)\n",
    "        is_calcutate = np.random.choice(np.arange(self.n_users),num_calculate,replace=False)\n",
    "\n",
    "        for i in is_calcutate:\n",
    "            self.S[i] = np.random.randint(1e3,1e3+100,1)\n",
    "            self.C[is_calcutate] = np.random.randint(1e3,1e3+100,1)\n",
    "            \n",
    "\n",
    "        \n",
    "        \n",
    "        E = 0\n",
    "        for i in is_calcutate:\n",
    "            if (self.C[i]/self.f_local[i]) > self.D_max[i]:action[i]=1\n",
    "            if action[i]==1:\n",
    "                \n",
    "                E+=(self.P_upload[i]*self.S[i]/self.R[i]+self.P_wait[i]*self.C[i]/self.beta[i]*self.fmec)\n",
    "            else:\n",
    "                E+=self.C[i]*self.simga_loc[i]\n",
    "        \n",
    "        E = min(E,10)\n",
    "        free_calculate = 1 - action[is_calcutate].dot(self.theta[is_calcutate])\n",
    "        free_frequency = 1 - action[is_calcutate].dot(self.beta[is_calcutate])\n",
    "        self.state = np.array([E,free_calculate,free_frequency])\n",
    "        reward = -E\n",
    "        \n",
    "        \n",
    "        return self.state,reward,False,{}\n",
    "        # calculate E\n",
    "            \n",
    "            \n",
    "        "
   ]
  },
  {
   "cell_type": "code",
   "execution_count": null,
   "metadata": {},
   "outputs": [],
   "source": []
  },
  {
   "cell_type": "code",
   "execution_count": 115,
   "metadata": {},
   "outputs": [
    {
     "name": "stdout",
     "output_type": "stream",
     "text": [
      "Training finished.\n",
      "\n"
     ]
    },
    {
     "data": {
      "image/png": "[encoded data removed]",
      "text/plain": [
       "<Figure size 432x288 with 1 Axes>"
      ]
     },
     "metadata": {},
     "output_type": "display_data"
    }
   ],
   "source": [
    "mec_4 = MEC_ENV_compare4(5)\n",
    "eposide_reward = run_compare(mec_4)\n",
    "plt.plot(list(range(500)),eposide_reward)\n",
    "plt.xlabel('eposide')\n",
    "plt.ylabel('total_reward')\n",
    "plt.show()"
   ]
  },
  {
   "cell_type": "markdown",
   "metadata": {},
   "source": [
    "# 对比试验(方案5）"
   ]
  },
  {
   "cell_type": "code",
   "execution_count": 116,
   "metadata": {},
   "outputs": [],
   "source": [
    "#beta是计算资源\n",
    "#theta是通信资源\n",
    "class MEC_ENV_compare5(gym.Env):\n",
    "    def __init__(self,n_users):\n",
    "#         super(MEC_ENV).__init__()\n",
    "        self.n_users = n_users\n",
    "        self.action_space = spaces.Discrete(2**self.n_users)\n",
    "        \n",
    "        high = np.array([np.inf,1,1])\n",
    "        low = np.array([0,0,0])\n",
    "        self.observation_space = spaces.Box(low=low,high=high,dtype=np.float32)\n",
    "        \n",
    "        self.simga_loc = np.zeros(n_users)\n",
    "        self.f_local = np.zeros(n_users)\n",
    "        self.R = np.zeros(n_users)\n",
    "        self.P_upload = np.zeros(n_users)\n",
    "        self.S = np.zeros(n_users)\n",
    "        self.C = np.zeros(n_users)\n",
    "        self.D_max = np.zeros(n_users)\n",
    "        self.P_wait = np.zeros(n_users)\n",
    "        self.beta = np.zeros(n_users)\n",
    "        self.theta = np.zeros(n_users)\n",
    "        self.fmec = 100\n",
    "        \n",
    "        self.reset()\n",
    "        \n",
    "    def reset(self):\n",
    "        self.state = np.array([np.inf,1,1])\n",
    "        self.simga_loc = np.random.randint(1,3,self.n_users)*1e-4\n",
    "        self.P_upload = np.random.randint(1,3,self.n_users)*1e-5\n",
    "        self.P_wait = np.random.randint(1,3,self.n_users)*1e-6\n",
    "        self.D_max = np.random.randint(1,3,self.n_users)*1e-2\n",
    "        self.R = np.random.randint(1,3,self.n_users)*1e3\n",
    "        self.f_local = np.random.randint(1,3,self.n_users)*1e6\n",
    "        self.beta = np.ones(self.n_users)*0.1\n",
    "        self.theta = np.ones(self.n_users)*0.1\n",
    "        \n",
    "        return self.state\n",
    "    def step(self,action):\n",
    "        \n",
    "        #随机本地和卸载计算\n",
    "        action = np.random.randint(0,2,self.n_users)\n",
    "        \n",
    "        \n",
    "        num_calculate = np.random.randint(1,self.n_users)\n",
    "        is_calcutate = np.random.choice(np.arange(self.n_users),num_calculate,replace=False)\n",
    "\n",
    "        for i in is_calcutate:\n",
    "            self.S[i] = np.random.randint(1e3,1e3+100,1)\n",
    "            self.C[is_calcutate] = np.random.randint(1e3,1e3+100,1)\n",
    "            \n",
    "\n",
    "        \n",
    "        \n",
    "        E = 0\n",
    "        for i in is_calcutate:\n",
    "            if (self.C[i]/self.f_local[i]) > self.D_max[i]:action[i]=1\n",
    "            if action[i]==1:\n",
    "                \n",
    "                E+=(self.P_upload[i]*self.S[i]/self.R[i]+self.P_wait[i]*self.C[i]/self.beta[i]*self.fmec)\n",
    "            else:\n",
    "                E+=self.C[i]*self.simga_loc[i]\n",
    "        \n",
    "        E = min(E,10)\n",
    "        free_calculate = 1 - action[is_calcutate].dot(self.theta[is_calcutate])\n",
    "        free_frequency = 1 - action[is_calcutate].dot(self.beta[is_calcutate])\n",
    "        self.state = np.array([E,free_calculate,free_frequency])\n",
    "        reward = -E\n",
    "        \n",
    "        \n",
    "        return self.state,reward,False,{}\n",
    "        # calculate E\n",
    "            \n",
    "            \n",
    "        "
   ]
  },
  {
   "cell_type": "code",
   "execution_count": 117,
   "metadata": {},
   "outputs": [
    {
     "name": "stdout",
     "output_type": "stream",
     "text": [
      "Training finished.\n",
      "\n"
     ]
    },
    {
     "data": {
      "image/png": "[encoded data removed]",
      "text/plain": [
       "<Figure size 432x288 with 1 Axes>"
      ]
     },
     "metadata": {},
     "output_type": "display_data"
    }
   ],
   "source": [
    "mec_5 = MEC_ENV_compare5(5)\n",
    "eposide_reward = run_compare(mec_5)\n",
    "plt.plot(list(range(500)),eposide_reward)\n",
    "plt.xlabel('eposide')\n",
    "plt.ylabel('total_reward')\n",
    "plt.show()"
   ]
  },
  {
   "cell_type": "code",
   "execution_count": null,
   "metadata": {},
   "outputs": [],
   "source": []
  }
 ],
 "metadata": {
  "kernelspec": {
   "display_name": "Python 3",
   "language": "python",
   "name": "python3"
  },
  "language_info": {
   "codemirror_mode": {
    "name": "ipython",
    "version": 3
   },
   "file_extension": ".py",
   "mimetype": "text/x-python",
   "name": "python",
   "nbconvert_exporter": "python",
   "pygments_lexer": "ipython3",
   "version": "3.6.5"
  }
 },
 "nbformat": 4,
 "nbformat_minor": 2
}
